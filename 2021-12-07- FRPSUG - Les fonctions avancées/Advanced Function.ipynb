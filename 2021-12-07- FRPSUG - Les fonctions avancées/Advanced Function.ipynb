{
 "cells": [
  {
   "cell_type": "markdown",
   "metadata": {},
   "source": [
    "# Les fonctions avancées en PowerShell"
   ]
  },
  {
   "cell_type": "markdown",
   "metadata": {},
   "source": [
    "## C'est quoi une fonction ?"
   ]
  },
  {
   "cell_type": "markdown",
   "metadata": {},
   "source": [
    "<font size=\"4\"> Une fonction c'est une série d'instructions qui s'exécute quand on appelle la fonction </font>\n",
    "\n",
    "```powershell\n",
    "Function Test {\n",
    "    Write-Host \"Hello World\"\n",
    "}\n",
    "```"
   ]
  },
  {
   "cell_type": "markdown",
   "metadata": {},
   "source": [
    "## C'est quoi la différence avec un script ? "
   ]
  },
  {
   "cell_type": "markdown",
   "metadata": {},
   "source": [
    "### Script"
   ]
  },
  {
   "cell_type": "markdown",
   "metadata": {},
   "source": [
    "<font size=\"4\"> Pour lancer le script vous devez soit mettre le chemin complet du script soit vous déplacer dans le dossier ou se trouve le script.. </font>"
   ]
  },
  {
   "cell_type": "code",
   "execution_count": null,
   "metadata": {
    "dotnet_interactive": {
     "language": "pwsh"
    }
   },
   "outputs": [],
   "source": [
    "$PWD"
   ]
  },
  {
   "cell_type": "code",
   "execution_count": null,
   "metadata": {
    "dotnet_interactive": {
     "language": "pwsh"
    }
   },
   "outputs": [],
   "source": [
    "./01-ScriptFile.ps1"
   ]
  },
  {
   "cell_type": "code",
   "execution_count": null,
   "metadata": {
    "dotnet_interactive": {
     "language": "pwsh"
    }
   },
   "outputs": [],
   "source": [
    "Set-Location -Path ./Demo\n",
    "./01-ScriptFile.ps1"
   ]
  },
  {
   "cell_type": "code",
   "execution_count": null,
   "metadata": {
    "dotnet_interactive": {
     "language": "pwsh"
    }
   },
   "outputs": [],
   "source": [
    "Set-Location -Path ..\n",
    "$PWD"
   ]
  },
  {
   "cell_type": "code",
   "execution_count": null,
   "metadata": {
    "dotnet_interactive": {
     "language": "pwsh"
    }
   },
   "outputs": [],
   "source": [
    "./Demo/01-ScriptFile.ps1"
   ]
  },
  {
   "cell_type": "markdown",
   "metadata": {},
   "source": [
    "### Fonction"
   ]
  },
  {
   "cell_type": "markdown",
   "metadata": {},
   "source": [
    "<font size=\"4\"> Il faut voir la fonction comme un CmdLet personnel. \n",
    "\n",
    "Une fois la fonction chargée en mémoire, elle est disponible tant que vous ne fermez pas votre instance de PowerShell. </font>"
   ]
  },
  {
   "cell_type": "code",
   "execution_count": null,
   "metadata": {
    "dotnet_interactive": {
     "language": "pwsh"
    }
   },
   "outputs": [],
   "source": [
    "Function DoSomeThing {\n",
    "    Write-host \"Je suis la fonction\"\n",
    "}"
   ]
  },
  {
   "cell_type": "code",
   "execution_count": null,
   "metadata": {
    "dotnet_interactive": {
     "language": "pwsh"
    }
   },
   "outputs": [],
   "source": [
    "DoSomeThing"
   ]
  },
  {
   "cell_type": "markdown",
   "metadata": {},
   "source": [
    "<font size=\"4\"> Je peux me déplacer dans n'importe quel dossier ma fonction sera toujours disponible puisqu'elle est chargée en mémoire. </font>"
   ]
  },
  {
   "cell_type": "markdown",
   "metadata": {},
   "source": [
    "## Les bonnes pratiques"
   ]
  },
  {
   "cell_type": "markdown",
   "metadata": {},
   "source": [
    "<font size=\"4\"> Voici quelques Best Practice que j'essai de m'appliquer à moi-même :\n",
    "* Ne compliquer pas les choses. Faites au plus simple et direct\n",
    "* N'utiliser pas d'alias dans votre fonction. (on oublie les ipmo, ii ...  )\n",
    "* Metre en forme le code pour en simplifier la relecture\n",
    "* Ne coder pas de valeur en dur mais utiliser des paramètres\n",
    "* Utiliser au maximum des noms de paramètres standards\n",
    "* Pour nommer votre fonction utiliser un verb approuvé et un nom singulier\n",
    "</font>"
   ]
  },
  {
   "cell_type": "code",
   "execution_count": null,
   "metadata": {
    "dotnet_interactive": {
     "language": "pwsh"
    }
   },
   "outputs": [],
   "source": [
    "Get-Verb | Select-Object Verb,Group,Description | Sort-Object Group,Verb"
   ]
  },
  {
   "cell_type": "code",
   "execution_count": null,
   "metadata": {
    "dotnet_interactive": {
     "language": "pwsh"
    }
   },
   "outputs": [],
   "source": [
    "(Get-Command -ParameterName \"ComputerName\" -ErrorAction SilentlyContinue).count"
   ]
  },
  {
   "cell_type": "code",
   "execution_count": null,
   "metadata": {
    "dotnet_interactive": {
     "language": "pwsh"
    }
   },
   "outputs": [],
   "source": [
    "(Get-Command -ParameterName \"Computer\" -ErrorAction SilentlyContinue).count"
   ]
  },
  {
   "cell_type": "code",
   "execution_count": null,
   "metadata": {
    "dotnet_interactive": {
     "language": "pwsh"
    }
   },
   "outputs": [],
   "source": []
  },
  {
   "cell_type": "markdown",
   "metadata": {
    "dotnet_interactive": {
     "language": "pwsh"
    }
   },
   "source": [
    "## Fonction"
   ]
  },
  {
   "cell_type": "markdown",
   "metadata": {},
   "source": [
    "L'exemple ci-dessous présente une fonction \"basique\""
   ]
  },
  {
   "cell_type": "code",
   "execution_count": null,
   "metadata": {
    "dotnet_interactive": {
     "language": "pwsh"
    }
   },
   "outputs": [],
   "source": [
    "Function Test-Parameter {\n",
    "    param(\n",
    "        $ComputerName\n",
    "    )\n",
    "\n",
    "    Write-Output \"ComputerName = $ComputerName\"\n",
    "}\n",
    "\n",
    "Test-Parameter -ComputerName \"MONORDI\""
   ]
  },
  {
   "cell_type": "markdown",
   "metadata": {},
   "source": [
    "Si on vérifie les paramètre de cette fonction on voit qu'elle n'a qu'un seul paramètre"
   ]
  },
  {
   "cell_type": "code",
   "execution_count": null,
   "metadata": {
    "dotnet_interactive": {
     "language": "pwsh"
    }
   },
   "outputs": [],
   "source": [
    "Get-Command -Name Test-Parameter -Syntax"
   ]
  },
  {
   "cell_type": "markdown",
   "metadata": {},
   "source": [
    "Si on vérifie la liste des noms de paramètre disponible :"
   ]
  },
  {
   "cell_type": "code",
   "execution_count": null,
   "metadata": {
    "dotnet_interactive": {
     "language": "pwsh"
    }
   },
   "outputs": [],
   "source": [
    "(Get-Command -Name Test-Parameter).Parameters.Keys"
   ]
  },
  {
   "cell_type": "markdown",
   "metadata": {},
   "source": [
    "Mais il nous manque les paramètres habituels qu'on retrouve sur quasiment tous les CmdLet PowerShell tel que verbose ou debug.\n",
    "C'est pour cela qu'on passe en fonction avancée."
   ]
  },
  {
   "cell_type": "markdown",
   "metadata": {},
   "source": [
    "## Fonction avancée"
   ]
  },
  {
   "cell_type": "markdown",
   "metadata": {
    "dotnet_interactive": {
     "language": "pwsh"
    }
   },
   "source": [
    "Le passage en fonction avancée est assez simple il suffit d'ajouter ```[CmdletBinding()]``` a notre fonction ainsi que les blocs Begin/Process/End.\n",
    "\n",
    "Les blocs ne sont pas obligatoire pour faire une fonction avancée"
   ]
  },
  {
   "cell_type": "code",
   "execution_count": null,
   "metadata": {
    "dotnet_interactive": {
     "language": "pwsh"
    }
   },
   "outputs": [],
   "source": [
    "Function Test-Parameter {\n",
    "    [CmdletBinding()]\n",
    "    param(\n",
    "        [System.String[]]$ComputerName\n",
    "    )\n",
    "\n",
    "    Begin {}\n",
    "    Process {\n",
    "        Write-Output \"ComputerName = $ComputerName\"\n",
    "    }\n",
    "    End {}\n",
    "   \n",
    "}\n",
    "\n",
    "Test-Parameter -ComputerName \"MONORDI\""
   ]
  },
  {
   "cell_type": "markdown",
   "metadata": {},
   "source": [
    "Si on regarde la syntax maintenant on voit un ```[<CommonParameters>]``` apparaitre"
   ]
  },
  {
   "cell_type": "code",
   "execution_count": null,
   "metadata": {
    "dotnet_interactive": {
     "language": "pwsh"
    }
   },
   "outputs": [],
   "source": [
    "Get-Command -Name Test-Parameter -Syntax"
   ]
  },
  {
   "cell_type": "markdown",
   "metadata": {},
   "source": [
    "En regardant la liste des noms de paramètres on retrouve tous les paramètres habituels"
   ]
  },
  {
   "cell_type": "code",
   "execution_count": null,
   "metadata": {
    "dotnet_interactive": {
     "language": "pwsh"
    }
   },
   "outputs": [],
   "source": [
    "(Get-Command -Name Test-Parameter).Parameters.Keys"
   ]
  },
  {
   "cell_type": "markdown",
   "metadata": {},
   "source": [
    "Les blocs Begin et End ne sont executés qu'une seule fois alors que le bloc Process sera executé autant de fois qu'il y a de valeur passé en paramètre "
   ]
  },
  {
   "cell_type": "code",
   "execution_count": null,
   "metadata": {
    "dotnet_interactive": {
     "language": "pwsh"
    }
   },
   "outputs": [],
   "source": [
    "Function Test-Parameter {\n",
    "    [CmdletBinding()]\n",
    "    param(\n",
    "        [System.String[]]$ComputerName\n",
    "    )\n",
    "\n",
    "    Begin {\n",
    "        Write-Verbose \"Je suis le bloc Begin\"\n",
    "    }\n",
    "    Process {\n",
    "        foreach ($Name in $ComputerName) {\n",
    "            Write-Verbose \"ComputerName = $Name\"\n",
    "        }\n",
    "    }\n",
    "    End {\n",
    "        Write-verbose \"Je suis le bloc End\"\n",
    "    }\n",
    "   \n",
    "}\n",
    "\n",
    "Test-Parameter -ComputerName \"MONORDI1\",\"MONORDI2\",\"MONORDI3\",\"MONORDI4\" -Verbose"
   ]
  },
  {
   "cell_type": "markdown",
   "metadata": {
    "dotnet_interactive": {
     "language": "pwsh"
    }
   },
   "source": [
    "## Validation des paramètres"
   ]
  },
  {
   "cell_type": "markdown",
   "metadata": {
    "dotnet_interactive": {
     "language": "pwsh"
    }
   },
   "source": [
    "### Mandatory"
   ]
  },
  {
   "cell_type": "markdown",
   "metadata": {},
   "source": [
    "Le souci dans l'exemple précédent est que l'on peut lancer la fonction sans lui passer de paramètre.\n",
    "\n",
    "Pour corriger cela on va rendre le pramètre obligatoire."
   ]
  },
  {
   "cell_type": "code",
   "execution_count": null,
   "metadata": {
    "dotnet_interactive": {
     "language": "pwsh"
    }
   },
   "outputs": [],
   "source": [
    "Function Test-Parameter {\n",
    "    [CmdletBinding()]\n",
    "    param(\n",
    "        [Parameter(Mandatory)]\n",
    "        [System.String[]]$ComputerName\n",
    "    )\n",
    "\n",
    "    Write-Output \"ComputerName = $ComputerName\"\n",
    "}\n",
    "\n",
    "Test-Parameter -ComputerName \"MONORDI\"\n",
    "Test-Parameter"
   ]
  },
  {
   "cell_type": "markdown",
   "metadata": {},
   "source": [
    "### [ValidateNotNullOrEmpty()] et [ValidateNotNull()]"
   ]
  },
  {
   "cell_type": "markdown",
   "metadata": {},
   "source": [
    "Va nous permettre de nous assurer qu'un valeur est bien passé a notre paramètre."
   ]
  },
  {
   "cell_type": "markdown",
   "metadata": {},
   "source": [
    "```ValidateNotNull``` : vérifie uniquement si la valeur transmise au paramètre est une valeur null. Cela fonctionnera toujours s’il est passé une chaîne vide."
   ]
  },
  {
   "cell_type": "code",
   "execution_count": null,
   "metadata": {
    "dotnet_interactive": {
     "language": "pwsh"
    }
   },
   "outputs": [],
   "source": [
    "Function Test-ParameterNotNull {\n",
    "    [CmdletBinding()]\n",
    "    param(\n",
    "        [ValidateNotNull()]\n",
    "        [System.String[]]$ComputerName\n",
    "    )\n",
    "\n",
    "    Write-Output \"ComputerName = $ComputerName\"\n",
    "}\n",
    "\n",
    "Test-ParameterNotNull -ComputerName $null \n",
    "Test-ParameterNotNull -ComputerName \"\""
   ]
  },
  {
   "cell_type": "markdown",
   "metadata": {},
   "source": [
    "```ValidateNotNullOrEmpty``` : vérifie également si la valeur transmise est une valeur null et s’il s’agit d’une chaîne ou d’une collection vide"
   ]
  },
  {
   "cell_type": "code",
   "execution_count": null,
   "metadata": {
    "dotnet_interactive": {
     "language": "pwsh"
    }
   },
   "outputs": [],
   "source": [
    "Function Test-ParameterNotNullOrEmpty {\n",
    "    [CmdletBinding()]\n",
    "    param(\n",
    "        [ValidateNotNullOrEmpty()]\n",
    "        [System.String[]]$ComputerName\n",
    "    )\n",
    "\n",
    "    Write-Output \"ComputerName = $ComputerName\"\n",
    "}\n",
    "\n",
    "Test-ParameterNotNullOrEmpty -ComputerName $null \n",
    "Test-ParameterNotNullOrEmpty -ComputerName \"\""
   ]
  },
  {
   "cell_type": "markdown",
   "metadata": {},
   "source": [
    "### [ValidateLength()]"
   ]
  },
  {
   "cell_type": "markdown",
   "metadata": {},
   "source": [
    "Cette validation permet de définir une taille minimale et maximale attendue pour un paramètre.\n",
    "\n",
    "Dans notre exemple nous voulons que le paramètre ```ComputerName``` fasse minimum 1 caractère et au maximum 13 caractères."
   ]
  },
  {
   "cell_type": "code",
   "execution_count": null,
   "metadata": {
    "dotnet_interactive": {
     "language": "pwsh"
    }
   },
   "outputs": [],
   "source": [
    "Function Test-ParameterLength {\n",
    "    [CmdletBinding()]\n",
    "    param(\n",
    "        [ValidateLength(1,13)]\n",
    "        [System.String[]]$ComputerName\n",
    "    )\n",
    "\n",
    "    Write-Output \"ComputerName = $ComputerName\"\n",
    "}\n",
    "\n",
    "Test-ParameterLength -ComputerName \"MONORDI\"\n",
    "Test-ParameterLength -ComputerName \"MONNOMORDITROPLONG\"\n"
   ]
  },
  {
   "cell_type": "markdown",
   "metadata": {},
   "source": [
    "### [ValidateRange()]"
   ]
  },
  {
   "cell_type": "markdown",
   "metadata": {},
   "source": [
    "C’est en quelque sorte le pendant de ```[ValidateLength()]``` mais pour les chiffres. \n",
    "\n",
    "Comme pour ```[ValidateLength()]```, il permet de définir une valeur minimale et maximale que peut prendre un paramètre.\n",
    "\n",
    "Dans notre exemple l’age du PC doit-être compris entre 5 et 10 ans"
   ]
  },
  {
   "cell_type": "code",
   "execution_count": null,
   "metadata": {
    "dotnet_interactive": {
     "language": "pwsh"
    }
   },
   "outputs": [],
   "source": [
    "Function Test-ParameterRange {\n",
    "    [CmdletBinding()]\n",
    "    param(\n",
    "        [ValidateLength(1,13)]\n",
    "        [System.String[]]$ComputerName,\n",
    "        [ValidateRange(5,10)]\n",
    "        [System.Int32]$Age\n",
    "    )\n",
    "\n",
    "    Write-Output \"ComputerName = $ComputerName\"\n",
    "    Write-Output \"Age = $Age\"\n",
    "}\n",
    "\n",
    "Test-ParameterRange -ComputerName \"MONORDI\" -Age 15\n",
    "Test-ParameterRange -ComputerName \"MONORDI\" -Age 7"
   ]
  },
  {
   "cell_type": "markdown",
   "metadata": {},
   "source": [
    "### [ValidateCount()]"
   ]
  },
  {
   "cell_type": "markdown",
   "metadata": {},
   "source": [
    "Comme pour ValidateRange() il permet de définir le nombre minimal et le nombre maximal d’objet que peux prendre une collection passée en paramètre.\n",
    "\n",
    "Dans notre exemple on peut passer plusieurs nom d'ordinateur à la fois, mais pas plus de 3."
   ]
  },
  {
   "cell_type": "code",
   "execution_count": null,
   "metadata": {
    "dotnet_interactive": {
     "language": "pwsh"
    }
   },
   "outputs": [],
   "source": [
    "Function Test-ParameterCount {\n",
    "    [CmdletBinding()]\n",
    "    param(\n",
    "        [ValidateCount(1,3)]\n",
    "        [System.String[]]$ComputerName,\n",
    "        [ValidateRange(5,10)]\n",
    "        [System.Int32]$Age\n",
    "    )\n",
    "\n",
    "    Write-Output \"ComputerName = $ComputerName\"\n",
    "    Write-Output \"Age = $Age\"\n",
    "}\n",
    "\n",
    "test-ParameterCount -ComputerName \"MONORDI1\",\"MONORDI2\",\"MONORDI3\",\"MONORDI4\" -Age 6\n",
    "test-ParameterCount -ComputerName \"MONORDI1\",\"MONORDI2\",\"MONORDI3\" -Age 6"
   ]
  },
  {
   "cell_type": "markdown",
   "metadata": {},
   "source": [
    "### [ValidateSet()]"
   ]
  },
  {
   "cell_type": "markdown",
   "metadata": {},
   "source": [
    "Cette validation permet de fournir une liste de réponse possible pour la valeur du paramètre.\n",
    "\n",
    "Cette validation peut-être rendu Case Sensitive, si à la fin de la déclaration, la valeur ignorecase est définie à $False"
   ]
  },
  {
   "cell_type": "markdown",
   "metadata": {},
   "source": [
    "Dans cette exemple les valeurs du paramètre ```site``` ne sont pas case sensitive."
   ]
  },
  {
   "cell_type": "code",
   "execution_count": null,
   "metadata": {
    "dotnet_interactive": {
     "language": "pwsh"
    }
   },
   "outputs": [],
   "source": [
    "Function Test-ParameterSet {\n",
    "    [CmdletBinding()]\n",
    "    param(\n",
    "        [ValidateCount(1,3)]\n",
    "        [System.String[]]$ComputerName,\n",
    "        [ValidateRange(5,10)]\n",
    "        [System.Int32]$Age,\n",
    "        [ValidateSet(\"SIEGE\",\"AGENCE\",\"STOCK\")]\n",
    "        [System.String]$Site\n",
    "    )\n",
    "\n",
    "    Write-Output \"ComputerName = $ComputerName\"\n",
    "    Write-Output \"Age = $Age\"\n",
    "    Write-Output \"Site = $Site\"\n",
    "}\n",
    "\n",
    "Test-ParameterSet -ComputerName \"MONORDI1\" -Age 6 -Site HOME\n",
    "Test-ParameterSet -ComputerName \"MONORDI1\" -Age 6 -Site siege\n",
    "Test-ParameterSet -ComputerName \"MONORDI1\" -Age 6 -Site SIEGE"
   ]
  },
  {
   "cell_type": "markdown",
   "metadata": {},
   "source": [
    "Dans cette exemple les valeurs du paramètre ```site``` sont case sensitive."
   ]
  },
  {
   "cell_type": "code",
   "execution_count": null,
   "metadata": {
    "dotnet_interactive": {
     "language": "pwsh"
    }
   },
   "outputs": [],
   "source": [
    "Function Test-ParameterSet {\n",
    "    [CmdletBinding()]\n",
    "    param(\n",
    "        [ValidateCount(1,3)]\n",
    "        [System.String[]]$ComputerName,\n",
    "        [ValidateRange(5,10)]\n",
    "        [System.Int32]$Age,\n",
    "        [ValidateSet(\"SIEGE\",\"AGENCE\",\"STOCK\",ignorecase=$false)]\n",
    "        [System.String]$Site\n",
    "    )\n",
    "\n",
    "    Write-Output \"ComputerName = $ComputerName\"\n",
    "    Write-Output \"Age = $Age\"\n",
    "    Write-Output \"Site = $Site\"\n",
    "}\n",
    "\n",
    "Test-ParameterSet -ComputerName \"MONORDI1\" -Age 6 -Site HOME\n",
    "Test-ParameterSet -ComputerName \"MONORDI1\" -Age 6 -Site siege\n",
    "Test-ParameterSet -ComputerName \"MONORDI1\" -Age 6 -Site SIEGE"
   ]
  },
  {
   "cell_type": "markdown",
   "metadata": {},
   "source": [
    "### [ValidatePattern()]"
   ]
  },
  {
   "cell_type": "markdown",
   "metadata": {},
   "source": [
    "Permet d’utiliser une expression régulière (REGEX) avant de tester la valeur d’un paramètre\n",
    "\n",
    "Dans notre exemple nous voulons être sur que le paramètre ComputerName soit toujours sous la forme d’un string commençant par ```SRV-``` suivi de 6 lettres et de 3 chiffres."
   ]
  },
  {
   "cell_type": "code",
   "execution_count": null,
   "metadata": {
    "dotnet_interactive": {
     "language": "pwsh"
    }
   },
   "outputs": [],
   "source": [
    "Function Test-ParameterPattern {\n",
    "    [CmdletBinding()]\n",
    "    param(\n",
    "        [ValidatePattern('^SRV-[a-zA-Z][a-zA-Z][a-zA-Z][a-zA-Z][a-zA-Z][a-zA-Z]\\d{3}$')]\n",
    "        [System.String[]]$ComputerName,\n",
    "        [ValidateRange(5,10)]\n",
    "        [System.Int32]$Age,\n",
    "        [ValidateSet(\"SIEGE\",\"AGENCE\",\"STOCK\")]\n",
    "        [System.String]$Site\n",
    "    )\n",
    "\n",
    "    Write-Output \"ComputerName = $ComputerName\"\n",
    "    Write-Output \"Age = $Age\"\n",
    "    Write-Output \"Site = $Site\"\n",
    "}\n",
    "\n",
    "Test-ParameterPattern -ComputerName \"MONORDI\" -Age 6 -Site SIEGE\n",
    "Test-ParameterPattern -ComputerName \"SRV-ABCDEF001\" -Age 6 -Site SIEGE"
   ]
  },
  {
   "cell_type": "markdown",
   "metadata": {},
   "source": [
    "### [ValidateScript()]"
   ]
  },
  {
   "cell_type": "markdown",
   "metadata": {},
   "source": [
    "Cette validation permet de définir un script qui va être executer pour valider la valeur du paramètre.\n",
    "\n",
    "Imaginons que nous voulions ajouter un paramètre ```Path``` qui serait le dossier vers lequel nous allons enregister notre liste d'ordinateur.\n",
    "\n",
    "Nous voulons nous assurer que ce chemin est bien un dossier."
   ]
  },
  {
   "cell_type": "code",
   "execution_count": null,
   "metadata": {
    "dotnet_interactive": {
     "language": "pwsh"
    }
   },
   "outputs": [],
   "source": [
    "Function Test-ParameterScript {\n",
    "    [CmdletBinding()]\n",
    "    param(\n",
    "        [ValidatePattern('^SRV-[a-zA-Z][a-zA-Z][a-zA-Z][a-zA-Z][a-zA-Z][a-zA-Z]\\d{3}$')]\n",
    "        [System.String[]]$ComputerName,\n",
    "        [ValidateRange(5,10)]\n",
    "        [System.Int32]$Age,\n",
    "        [ValidateSet(\"SIEGE\",\"AGENCE\",\"STOCK\")]\n",
    "        [System.String]$Site,\n",
    "        [ValidateScript(\n",
    "            {IF (!(Test-Path -Path $_ -PathType Container)) {\n",
    "                Throw \"$($Path) n'est pas un dossier valide\"\n",
    "            } else {\n",
    "                $true\n",
    "            }\n",
    "            }\n",
    "        )]\n",
    "        [System.String]$Path\n",
    "    )\n",
    "\n",
    "    Write-Output \"ComputerName = $ComputerName\"\n",
    "    Write-Output \"Age = $Age\"\n",
    "    Write-Output \"Site = $Site\"\n",
    "    Write-Output \"Path = $Path\"\n",
    "}\n",
    "\n",
    "Test-ParameterScript -ComputerName \"SRV-ABCDEF001\",\"SRV-ABCDEF002\",\"SRV-ABCDEF003\" -Age 6 -Site SIEGE -Path c:\\MONPATH\n",
    "Test-ParameterScript -ComputerName \"SRV-ABCDEF001\",\"SRV-ABCDEF002\",\"SRV-ABCDEF003\" -Age 6 -Site SIEGE -Path C:\\Temp"
   ]
  },
  {
   "cell_type": "markdown",
   "metadata": {},
   "source": [
    "Comme vous pouvez l’imaginer, le script peut-être quelque chose de plus compliqué qu’un simple test comme ici."
   ]
  },
  {
   "cell_type": "markdown",
   "metadata": {},
   "source": [
    "### Utiliser plusieurs validations"
   ]
  },
  {
   "cell_type": "markdown",
   "metadata": {
    "dotnet_interactive": {
     "language": "pwsh"
    }
   },
   "source": [
    "Dans l'exemple ci-dessous, on voit que la paramètre ```ComputerName``` a plusieurs validation."
   ]
  },
  {
   "cell_type": "code",
   "execution_count": null,
   "metadata": {
    "dotnet_interactive": {
     "language": "pwsh"
    }
   },
   "outputs": [],
   "source": [
    "Function Test-ParameterCumul {\n",
    "    [CmdletBinding()]\n",
    "    param(\n",
    "        [ValidatePattern('^SRV-[a-zA-Z][a-zA-Z][a-zA-Z][a-zA-Z][a-zA-Z][a-zA-Z]\\d{3}$')] #Le nom du serveur est de la forme SRV-ABCDEF001\n",
    "        [ValidateCount(1,3)] #On ne peut passer que 1, 2 ou 3 valeurs a ce paramètre\n",
    "        [ValidateLength(1,13)] #le nom ne doit pas dépasser 13 caractères\n",
    "        [ValidateNotNullOrEmpty()] #La valeur ne doit-être ni null et ni vide\n",
    "        [System.String[]]$ComputerName,\n",
    "        [ValidateRange(5,10)]\n",
    "        [System.Int32]$Age,\n",
    "        [ValidateSet(\"SIEGE\",\"AGENCE\",\"STOCK\")]\n",
    "        [System.String]$Site,\n",
    "        [ValidateScript(\n",
    "            {IF (!(Test-Path -Path $_ -PathType Container)) {\n",
    "                Throw \"$($Path) n'est pas un dossier valide\"\n",
    "            } else {\n",
    "                $true\n",
    "            }\n",
    "            }\n",
    "        )]\n",
    "        [System.String]$Path\n",
    "    )\n",
    "\n",
    "    Write-Output \"ComputerName = $ComputerName\"\n",
    "    Write-Output \"Age = $Age\"\n",
    "    Write-Output \"Site = $Site\"\n",
    "}\n",
    "\n",
    "Test-ParameterCumul -ComputerName \"SRV-ABCDEF001\",\"SRV-ABCDEF002\",\"SRV-ABCDEF003\" -Age 6 -Site SIEGE -Path C:\\Temp\n",
    "Test-ParameterCumul -ComputerName \"SRV-ABCDEF001\",\"MONORDI\",\"SRV-ABCDEF003\" -Age 6 -Site SIEGE -Path C:\\Temp"
   ]
  },
  {
   "cell_type": "markdown",
   "metadata": {},
   "source": [
    "Pour ceux qui ont suivis, la validation ```ValidateLength(1,13)``` ne sert pas grand chose ici puisqu'il y a déjà la valdiation ```[ValidatePattern('^SRV-[a-zA-Z][a-zA-Z][a-zA-Z][a-zA-Z][a-zA-Z][a-zA-Z]\\d{3}$')]```"
   ]
  },
  {
   "cell_type": "markdown",
   "metadata": {},
   "source": [
    "## Les jeux de paramètres"
   ]
  },
  {
   "cell_type": "markdown",
   "metadata": {},
   "source": [
    "### 1 Paramètre dans chaque jeu de paramètres"
   ]
  },
  {
   "cell_type": "markdown",
   "metadata": {},
   "source": [
    "Les jeux de paramètres permettent de définir un ensemble de paramètre qui doivent être utiliser par une fonction.\n",
    "\n",
    "Cela permet par exemple de définir pour une même fonction 2 paramètres différents en entrée. \n",
    "\n",
    "Si l'on reprend notre exemple, on peut imaginer une fonction qui prendrait en paramètre soit un nom d'ordinateur soit un fichier avec une liste de nom d'ordinateur."
   ]
  },
  {
   "cell_type": "code",
   "execution_count": null,
   "metadata": {
    "dotnet_interactive": {
     "language": "pwsh"
    }
   },
   "outputs": [],
   "source": [
    "Function Test-ParameterSetName {\n",
    "    [CmdletBinding()]\n",
    "    param(\n",
    "        [System.String[]]$ComputerName\n",
    "    )\n",
    "\n",
    "    Foreach($Computer in $ComputerName) {\n",
    "        Write-Output \"ComputerName = $Computer\"\n",
    "    }\n",
    "}\n",
    "\n",
    "Test-ParameterSetName -ComputerName \"SRV-ABCDEF001\",\"SRV-ABCDEF002\",\"SRV-ABCDEF003\""
   ]
  },
  {
   "cell_type": "code",
   "execution_count": null,
   "metadata": {
    "dotnet_interactive": {
     "language": "pwsh"
    }
   },
   "outputs": [],
   "source": [
    "Function Test-ParameterSetName {\n",
    "    [CmdletBinding()]\n",
    "    param(\n",
    "        [System.IO.FileInfo]$Path\n",
    "    )\n",
    "\n",
    "    $ComputerName = (Import-Csv -Path $Path -Delimiter \",\").computername  \n",
    "\n",
    "    Foreach($Computer in $ComputerName) {\n",
    "        Write-Output \"ComputerName = $Computer\"\n",
    "    }\n",
    "}\n",
    "\n",
    "test-ParameterSetName -Path \".\\Demo\\ComputerList.csv\""
   ]
  },
  {
   "cell_type": "markdown",
   "metadata": {},
   "source": [
    "On se rend compte que finalement c'est 2 fonctions font quasiment la même chose.\n",
    "\n",
    "On va donc utilisé le ```ParameterSetName``` pour définir le jeu de paramètre et ainsi faire 1 fonction qui prendra l'un ou l'autre des paramètre (Nom ou Fichier)"
   ]
  },
  {
   "cell_type": "code",
   "execution_count": null,
   "metadata": {
    "dotnet_interactive": {
     "language": "pwsh"
    }
   },
   "outputs": [],
   "source": [
    "Function Test-ParameterSetName {\n",
    "    [CmdletBinding(DefaultParameterSetName=\"ByName\")]    #Je définis le nom du jeu de paramètre par défaut\n",
    "    param(\n",
    "        [Parameter(ParameterSetName=\"ByName\")] # Je définis le nom du jeu de paramètre pour mon paramètre ComputerName\n",
    "        [System.String[]]$ComputerName,\n",
    "        [Parameter(ParameterSetName=\"ByFile\")] # Je définis le nom du jeu de paramètre pour mon paramètre Path\n",
    "        [System.IO.FileInfo]$Path\n",
    "    )\n",
    "\n",
    "    switch ($PSCmdlet.ParameterSetName) {    # Je vérifis le jeu de paramètre utilisé\n",
    "        \"ByName\" {\n",
    "            Write-Output \"ByName\"\n",
    "            $ComputerName = $ComputerName\n",
    "        }\n",
    "        \"ByFile\" {\n",
    "            Write-Output \"ByFile\"\n",
    "            $ComputerName = (Import-Csv -Path $Path -Delimiter \",\").computername\n",
    "        }\n",
    "    }\n",
    "\n",
    "    Foreach($Computer in $ComputerName) {\n",
    "        Write-Output \"ComputerName = $Computer\"\n",
    "    }\n",
    "}\n",
    "\n",
    "Test-ParameterSetName -ComputerName \"SRV-ABCDEF001\",\"SRV-ABCDEF002\",\"SRV-ABCDEF003\"\n",
    "Test-ParameterSetName -Path \".\\Demo\\ComputerList.csv\""
   ]
  },
  {
   "cell_type": "code",
   "execution_count": null,
   "metadata": {
    "dotnet_interactive": {
     "language": "pwsh"
    }
   },
   "outputs": [],
   "source": [
    "Get-Command -Name Test-ParameterSetName -Syntax"
   ]
  },
  {
   "cell_type": "markdown",
   "metadata": {},
   "source": [
    "En vérifiant la syntaxe de ma fonction j'ai bien 2 syntaxes différentes qui sont exclusive l'une de l'autre.\n",
    "\n",
    "Je ne peux pas appeller cette fonction avec le paramètre CompterName et avec le paramètre Path en même temps"
   ]
  },
  {
   "cell_type": "code",
   "execution_count": null,
   "metadata": {
    "dotnet_interactive": {
     "language": "pwsh"
    }
   },
   "outputs": [],
   "source": [
    "Test-ParameterSetName -ComputerName \"SRV-ABCDEF001\",\"SRV-ABCDEF002\",\"SRV-ABCDEF003\" -Path \".\\Demo\\ComputerList.csv\""
   ]
  },
  {
   "cell_type": "markdown",
   "metadata": {},
   "source": [
    "### 1 Paramètre dans plusieurs jeux de paramètre"
   ]
  },
  {
   "cell_type": "markdown",
   "metadata": {},
   "source": [
    "Dans les exemples précédents nous avions un paramètre ```Age``` qui correspond à l'age des ordinateurs.\n",
    "\n",
    "Ce paramètre doit-être utilisable dans les 2 jeux de paramètres ```ByName``` et ```ByFile```"
   ]
  },
  {
   "cell_type": "code",
   "execution_count": null,
   "metadata": {
    "dotnet_interactive": {
     "language": "pwsh"
    }
   },
   "outputs": [],
   "source": [
    "Function Test-ParameterSetName {\n",
    "    [CmdletBinding(DefaultParameterSetName=\"ByName\")]    #Je définis le nom du jeu de paramètre par défaut\n",
    "    param(\n",
    "        [Parameter(ParameterSetName=\"ByName\")] # Je définis le nom du jeu de paramètre pour mon paramètre ComputerName\n",
    "        [System.String[]]$ComputerName,\n",
    "        [Parameter(ParameterSetName=\"ByFile\")] # Je définis le nom du jeu de paramètre pour mon paramètre Path\n",
    "        [System.IO.FileInfo]$Path,\n",
    "        [Parameter(ParameterSetName=\"ByFile\")]\n",
    "        [Parameter(ParameterSetName=\"ByName\")]\n",
    "        [System.Int32]$Age\n",
    "    )\n",
    "\n",
    "    switch ($PSCmdlet.ParameterSetName) {    # Je vérifis le jeu de paramètre utilisé\n",
    "        \"ByName\" {\n",
    "            Write-Output \"ByName\"\n",
    "            $ComputerName = $ComputerName\n",
    "        }\n",
    "        \"ByFile\" {\n",
    "            Write-Output \"ByFile\"\n",
    "            $ComputerName = (Import-Csv -Path $Path -Delimiter \",\").computername\n",
    "        }\n",
    "    }\n",
    "\n",
    "    Foreach($Computer in $ComputerName) {\n",
    "        Write-Output \"ComputerName = $Computer\"\n",
    "        Write-Output \"Age = $Age\"\n",
    "    }\n",
    "}"
   ]
  },
  {
   "cell_type": "markdown",
   "metadata": {},
   "source": [
    "En vérifiant la syntaxe, cette fois on retrouve bien notre paramètre ```Age``` dans les 2 jeux de paramètres."
   ]
  },
  {
   "cell_type": "code",
   "execution_count": null,
   "metadata": {
    "dotnet_interactive": {
     "language": "pwsh"
    }
   },
   "outputs": [
    {
     "name": "stdout",
     "output_type": "stream",
     "text": [
      "\r\n",
      "Test-ParameterSetName [-ComputerName <string[]>] [-Age <int>] [<CommonParameters>]\r\n",
      "\r\n",
      "Test-ParameterSetName [-Path <FileInfo>] [-Age <int>] [<CommonParameters>]\r\n",
      "\r\n"
     ]
    }
   ],
   "source": [
    "Get-Command -Name Test-ParameterSetName -Syntax"
   ]
  },
  {
   "cell_type": "code",
   "execution_count": null,
   "metadata": {
    "dotnet_interactive": {
     "language": "pwsh"
    }
   },
   "outputs": [],
   "source": [
    "Test-ParameterSetName -ComputerName \"SRV-ABCDEF001\",\"SRV-ABCDEF002\",\"SRV-ABCDEF003\" -Age 5\n",
    "Test-ParameterSetName -Path \".\\Demo\\ComputerList.csv\" -Age 7"
   ]
  },
  {
   "cell_type": "markdown",
   "metadata": {},
   "source": [
    "## Les paramètres dynamiques"
   ]
  },
  {
   "cell_type": "markdown",
   "metadata": {},
   "source": [
    "Dans l'exemple sur ```ValidateSet``` nous avons vu que nous pouvions passer une liste de valeurs en paramètre."
   ]
  },
  {
   "cell_type": "code",
   "execution_count": null,
   "metadata": {
    "dotnet_interactive": {
     "language": "pwsh"
    }
   },
   "outputs": [],
   "source": [
    "Function Test-ParameterSet {\n",
    "    [CmdletBinding()]\n",
    "    param(\n",
    "        [ValidateSet(\"MyFile1\",\"MyFile2\",\"MyFile3\")]\n",
    "        [System.String]$FileName\n",
    "    )\n",
    "\n",
    "    Write-Output \"FileName = $FileName\"\n",
    "}"
   ]
  },
  {
   "cell_type": "code",
   "execution_count": null,
   "metadata": {
    "dotnet_interactive": {
     "language": "pwsh"
    }
   },
   "outputs": [],
   "source": [
    "Test-ParameterSet -FileName MyFile2"
   ]
  },
  {
   "cell_type": "markdown",
   "metadata": {},
   "source": [
    "C'est déjà super cool, mais ce serait encore plus cool si la liste des fichier du paramètre ```FileName``` pouvait être dynamique, en prenant par exemple la liste des fichiers dans un sous-dossier.\n",
    "\n",
    "La différence entre un paramètre standard et un paramètre dynamqique est que le paramètre dynammique est dans son propre bloc de commande.\n",
    "\n",
    "```powershell\n",
    "[CmdletBinding()]\n",
    "param()\n",
    "DynamicParam {\n",
    "\n",
    "}\n",
    "```\n",
    "\n",
    "\n",
    "Pour faire simple, un paramètre dynamique est un object ```System.Management.Automation.RuntimeDefinedParameterDictionary``` dans lequel on trouve un ou plusieurs objects de type ```System.Management.Automation.RuntimeDefinedParameter``` \n",
    "\n",
    "Mais ce n'est pas aussi simple que ca en fait ;-) \n",
    "\n",
    "On va essayer de décortiquer tout ca."
   ]
  },
  {
   "cell_type": "code",
   "execution_count": null,
   "metadata": {
    "dotnet_interactive": {
     "language": "pwsh"
    }
   },
   "outputs": [],
   "source": [
    "# Etape 1 : la création de l'object System.Management.Automation.RuntimeDefinedParameterDictionary\n",
    "$RuntimeParamDic = New-Object System.Management.Automation.RuntimeDefinedParameterDictionary"
   ]
  },
  {
   "cell_type": "code",
   "execution_count": null,
   "metadata": {
    "dotnet_interactive": {
     "language": "pwsh"
    }
   },
   "outputs": [],
   "source": [
    "# Etape 2 : la création d'un object System.Collections.ObjectModel.Collection qui va contenir des objects System.Attribute\n",
    "$AttribColl = New-Object System.Collections.ObjectModel.Collection[System.Attribute]"
   ]
  },
  {
   "cell_type": "code",
   "execution_count": null,
   "metadata": {
    "dotnet_interactive": {
     "language": "pwsh"
    }
   },
   "outputs": [],
   "source": [
    "#Etape 3 : creation d'un object System.Management.Automation.ParameterAttribute dans lequel on défini tous les attributs que notre paramètre va pouvoir avoir\n",
    "# par exemple : qu'il soit utilisable dans tous les jeux de paramètre de ma fonction, qu'il soit obligatorie (Mandatory) ???\n",
    "$ParamAttrib = New-Object System.Management.Automation.ParameterAttribute\n",
    "$ParamAttrib.Mandatory = $Mandatory.IsPresent\n",
    "$ParamAttrib.ParameterSetName = '__AllParameterSets'"
   ]
  },
  {
   "cell_type": "code",
   "execution_count": null,
   "metadata": {
    "dotnet_interactive": {
     "language": "pwsh"
    }
   },
   "outputs": [],
   "source": [
    "# Etape 4 : on ajoute notre ParameterAttribute a notre collection d'attribut créé précedement\n",
    "$AttribColl.Add($ParamAttrib)"
   ]
  },
  {
   "cell_type": "code",
   "execution_count": null,
   "metadata": {
    "dotnet_interactive": {
     "language": "pwsh"
    }
   },
   "outputs": [],
   "source": [
    "# Etape 5 : comme je veux utiliser ValidateSet pour la validation de mon paramètre je dois l'ajouter à notre collection d'attribut\n",
    "# c'est également a cette endroit que je défini le code qui va créer les valeurs que pourra prendre mon paramètre dynamique\n",
    "$AttribColl.Add((New-Object System.Management.Automation.ValidateSetAttribute((Get-ChildItem .\\Demo\\FileName -File | Select-Object -ExpandProperty Name))))"
   ]
  },
  {
   "cell_type": "code",
   "execution_count": null,
   "metadata": {
    "dotnet_interactive": {
     "language": "pwsh"
    }
   },
   "outputs": [],
   "source": [
    "# Etape 6 : je vais définir mon paramètre dynamique, son type et ces attributs\n",
    "$RuntimeParam = New-Object System.Management.Automation.RuntimeDefinedParameter('FileName', [string], $AttribColl)"
   ]
  },
  {
   "cell_type": "code",
   "execution_count": null,
   "metadata": {
    "dotnet_interactive": {
     "language": "pwsh"
    }
   },
   "outputs": [],
   "source": [
    "# Etape 7 : Ajouter ce RuntimeParam a mon object créé à l'étape 1\n",
    "$RuntimeParamDic.Add('FileName', $RuntimeParam)"
   ]
  },
  {
   "cell_type": "code",
   "execution_count": null,
   "metadata": {
    "dotnet_interactive": {
     "language": "pwsh"
    }
   },
   "outputs": [],
   "source": [
    "# Etape 8 : Pour finir on retourne notre object System.Management.Automation.RuntimeDefinedParameterDictionary\n",
    "return $RuntimeParamDic"
   ]
  },
  {
   "cell_type": "code",
   "execution_count": null,
   "metadata": {
    "dotnet_interactive": {
     "language": "pwsh"
    }
   },
   "outputs": [],
   "source": [
    "Function Test-ParameterDynamic {\n",
    "    [CmdletBinding()]\n",
    "    param(\n",
    "    )\n",
    "    DynamicParam {\n",
    "        $RuntimeParamDic = New-Object System.Management.Automation.RuntimeDefinedParameterDictionary\n",
    "        $AttribColl = New-Object System.Collections.ObjectModel.Collection[System.Attribute]\n",
    "        $ParamAttrib = New-Object System.Management.Automation.ParameterAttribute\n",
    "        $ParamAttrib.Mandatory = $Mandatory.IsPresent\n",
    "        $ParamAttrib.ParameterSetName = '__AllParameterSets'\n",
    "        $AttribColl.Add($ParamAttrib)\n",
    "        $AttribColl.Add((New-Object System.Management.Automation.ValidateSetAttribute((Get-ChildItem .\\Demo\\FileName -File | Select-Object -ExpandProperty Name))))\n",
    "        $RuntimeParam = New-Object System.Management.Automation.RuntimeDefinedParameter('FileName', [string], $AttribColl)\n",
    "        $RuntimeParamDic.Add('FileName', $RuntimeParam)\n",
    "        return $RuntimeParamDic\n",
    "    }\n",
    "\n",
    "    begin {\n",
    "\n",
    "    }\n",
    "\n",
    "    Process {\n",
    "    }\n",
    "\n",
    "    End {\n",
    "        \n",
    "    }\n",
    "}"
   ]
  },
  {
   "cell_type": "code",
   "execution_count": null,
   "metadata": {
    "dotnet_interactive": {
     "language": "pwsh"
    }
   },
   "outputs": [],
   "source": [
    "Test-ParameterDynamic -FileName "
   ]
  }
 ],
 "metadata": {
  "interpreter": {
   "hash": "8004e28493c8280aef51d783a801132aa7ee25bf92aaa46aab1b87da1952a848"
  },
  "kernelspec": {
   "display_name": ".NET (C#)",
   "language": "C#",
   "name": ".net-csharp"
  },
  "language_info": {
   "file_extension": ".cs",
   "mimetype": "text/x-csharp",
   "name": "C#",
   "pygments_lexer": "csharp",
   "version": "9.0"
  },
  "orig_nbformat": 4
 },
 "nbformat": 4,
 "nbformat_minor": 2
}
